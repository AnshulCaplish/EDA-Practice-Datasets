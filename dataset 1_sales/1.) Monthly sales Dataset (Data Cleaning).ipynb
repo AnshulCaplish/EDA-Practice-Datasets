{
 "cells": [
  {
   "cell_type": "code",
   "execution_count": 1,
   "metadata": {},
   "outputs": [],
   "source": [
    "import numpy as np\n",
    "import pandas as pd"
   ]
  },
  {
   "cell_type": "code",
   "execution_count": 2,
   "metadata": {},
   "outputs": [
    {
     "name": "stdout",
     "output_type": "stream",
     "text": [
      "(168467, 7)\n",
      "       Order Date Order ID Price Each                     Product  \\\n",
      "0  08/31/19 22:21   236670      11.99            Wired Headphones   \n",
      "1  08/15/19 15:11   236671      99.99  Bose SoundSport Headphones   \n",
      "\n",
      "                   Purchase Address Quantity Ordered  \\\n",
      "0  359 Spruce St, Seattle, WA 98101                2   \n",
      "1    492 Ridge St, Dallas, TX 75001                1   \n",
      "\n",
      "                         file  \n",
      "0  Data\\Sales_August_2019.csv  \n",
      "1  Data\\Sales_August_2019.csv  \n"
     ]
    }
   ],
   "source": [
    "df=pd.read_csv(\"ConsolidateOutput.csv\")\n",
    "print(df.shape)\n",
    "print(df.head(2))"
   ]
  },
  {
   "cell_type": "code",
   "execution_count": 3,
   "metadata": {},
   "outputs": [
    {
     "data": {
      "text/plain": [
       "Order Date          object\n",
       "Order ID            object\n",
       "Price Each          object\n",
       "Product             object\n",
       "Purchase Address    object\n",
       "Quantity Ordered    object\n",
       "file                object\n",
       "dtype: object"
      ]
     },
     "execution_count": 3,
     "metadata": {},
     "output_type": "execute_result"
    }
   ],
   "source": [
    "df.dtypes"
   ]
  },
  {
   "cell_type": "code",
   "execution_count": 4,
   "metadata": {},
   "outputs": [
    {
     "name": "stdout",
     "output_type": "stream",
     "text": [
      "Order Date          486\n",
      "Order ID            486\n",
      "Price Each          486\n",
      "Product             486\n",
      "Purchase Address    486\n",
      "Quantity Ordered    486\n",
      "file                  0\n",
      "dtype: int64\n"
     ]
    }
   ],
   "source": [
    "print(df.isnull().sum())"
   ]
  },
  {
   "cell_type": "code",
   "execution_count": 4,
   "metadata": {},
   "outputs": [
    {
     "name": "stdout",
     "output_type": "stream",
     "text": [
      "None\n",
      "(167981, 7)\n"
     ]
    }
   ],
   "source": [
    "\n",
    "print(df.dropna(inplace=True))\n",
    "print(df.shape)\n"
   ]
  },
  {
   "cell_type": "code",
   "execution_count": 5,
   "metadata": {},
   "outputs": [
    {
     "name": "stdout",
     "output_type": "stream",
     "text": [
      "551\n"
     ]
    }
   ],
   "source": [
    "print(df.duplicated().sum())\n",
    "#print(df[df.duplicated()])"
   ]
  },
  {
   "cell_type": "markdown",
   "metadata": {},
   "source": [
    "## DROP DUPLICATES"
   ]
  },
  {
   "cell_type": "code",
   "execution_count": 6,
   "metadata": {},
   "outputs": [
    {
     "name": "stdout",
     "output_type": "stream",
     "text": [
      "None\n",
      "0\n"
     ]
    }
   ],
   "source": [
    "print(df.drop_duplicates(inplace=True))\n",
    "print(df.duplicated().sum())"
   ]
  },
  {
   "cell_type": "code",
   "execution_count": 7,
   "metadata": {},
   "outputs": [
    {
     "data": {
      "text/plain": [
       "(167430, 7)"
      ]
     },
     "execution_count": 7,
     "metadata": {},
     "output_type": "execute_result"
    }
   ],
   "source": [
    "df.shape"
   ]
  },
  {
   "cell_type": "code",
   "execution_count": 8,
   "metadata": {},
   "outputs": [
    {
     "data": {
      "text/plain": [
       "(167419, 7)"
      ]
     },
     "execution_count": 8,
     "metadata": {},
     "output_type": "execute_result"
    }
   ],
   "source": [
    "# Count the irregular data and drop the data based on the boolean condition\n",
    "\n",
    "df = df.drop(df[df['Order ID'] == 'Order ID'].index)\n",
    "df.shape"
   ]
  },
  {
   "cell_type": "code",
   "execution_count": 9,
   "metadata": {},
   "outputs": [
    {
     "name": "stdout",
     "output_type": "stream",
     "text": [
      "Empty DataFrame\n",
      "Columns: [Order Date, Order ID, Price Each, Product, Purchase Address, Quantity Ordered, file]\n",
      "Index: []\n"
     ]
    }
   ],
   "source": [
    "print(df[df['Order ID'] == 'Order ID'])"
   ]
  },
  {
   "cell_type": "markdown",
   "metadata": {},
   "source": [
    "## Find UNIQUE & NUNIQUE"
   ]
  },
  {
   "cell_type": "code",
   "execution_count": 10,
   "metadata": {},
   "outputs": [
    {
     "name": "stdout",
     "output_type": "stream",
     "text": [
      "Order Date          128812\n",
      "Order ID            160900\n",
      "Price Each              23\n",
      "Product                 19\n",
      "Purchase Address    129785\n",
      "Quantity Ordered         9\n",
      "file                    11\n",
      "dtype: int64\n",
      "6519\n"
     ]
    }
   ],
   "source": [
    "print(df.nunique())\n",
    "# We get to know that the Order ID is not primary it has duplicates (6519) in it.\n",
    "print(df['Order ID'].duplicated().sum())"
   ]
  },
  {
   "cell_type": "code",
   "execution_count": 11,
   "metadata": {},
   "outputs": [
    {
     "data": {
      "text/plain": [
       "Order Date           object\n",
       "Order ID             object\n",
       "Price Each          float64\n",
       "Product              object\n",
       "Purchase Address     object\n",
       "Quantity Ordered      int64\n",
       "file                 object\n",
       "dtype: object"
      ]
     },
     "execution_count": 11,
     "metadata": {},
     "output_type": "execute_result"
    }
   ],
   "source": [
    "# Convert OBject to Float64\n",
    "# 'Price Each' is float value (numeric) so it  first converts object to float \n",
    "# 'Quantity Ordered' is integer value so it converted directly from object to int\n",
    "df['Price Each'] = pd.to_numeric(df['Price Each'])\n",
    "df['Quantity Ordered'] = pd.to_numeric(df['Quantity Ordered'])\n",
    "df.dtypes"
   ]
  },
  {
   "cell_type": "code",
   "execution_count": 12,
   "metadata": {},
   "outputs": [
    {
     "data": {
      "text/plain": [
       "Order Date           object\n",
       "Order ID             object\n",
       "Price Each          float64\n",
       "Product              object\n",
       "Purchase Address     object\n",
       "Quantity Ordered      int64\n",
       "file                 object\n",
       "dtype: object"
      ]
     },
     "execution_count": 12,
     "metadata": {},
     "output_type": "execute_result"
    }
   ],
   "source": [
    "# Convert Float64 to int64  Here we need not to convert float to int as it is 'PRICE' so it will change the whle data .\n",
    "#df['Price Each'] = df['Price Each'].astype(np.int64)\n",
    "df.dtypes"
   ]
  },
  {
   "cell_type": "code",
   "execution_count": 13,
   "metadata": {},
   "outputs": [
    {
     "data": {
      "text/html": [
       "<div>\n",
       "<style scoped>\n",
       "    .dataframe tbody tr th:only-of-type {\n",
       "        vertical-align: middle;\n",
       "    }\n",
       "\n",
       "    .dataframe tbody tr th {\n",
       "        vertical-align: top;\n",
       "    }\n",
       "\n",
       "    .dataframe thead th {\n",
       "        text-align: right;\n",
       "    }\n",
       "</style>\n",
       "<table border=\"1\" class=\"dataframe\">\n",
       "  <thead>\n",
       "    <tr style=\"text-align: right;\">\n",
       "      <th></th>\n",
       "      <th>Order Date</th>\n",
       "      <th>Order ID</th>\n",
       "      <th>Price Each</th>\n",
       "      <th>Product</th>\n",
       "      <th>Purchase Address</th>\n",
       "      <th>Quantity Ordered</th>\n",
       "      <th>file</th>\n",
       "    </tr>\n",
       "  </thead>\n",
       "  <tbody>\n",
       "    <tr>\n",
       "      <td>0</td>\n",
       "      <td>08/31/19 22:21</td>\n",
       "      <td>236670</td>\n",
       "      <td>11.99</td>\n",
       "      <td>Wired Headphones</td>\n",
       "      <td>359 Spruce St, Seattle, WA 98101</td>\n",
       "      <td>2</td>\n",
       "      <td>Data\\Sales_August_2019.csv</td>\n",
       "    </tr>\n",
       "    <tr>\n",
       "      <td>1</td>\n",
       "      <td>08/15/19 15:11</td>\n",
       "      <td>236671</td>\n",
       "      <td>99.99</td>\n",
       "      <td>Bose SoundSport Headphones</td>\n",
       "      <td>492 Ridge St, Dallas, TX 75001</td>\n",
       "      <td>1</td>\n",
       "      <td>Data\\Sales_August_2019.csv</td>\n",
       "    </tr>\n",
       "    <tr>\n",
       "      <td>2</td>\n",
       "      <td>08/06/19 14:40</td>\n",
       "      <td>236672</td>\n",
       "      <td>700.00</td>\n",
       "      <td>iPhone</td>\n",
       "      <td>149 7th St, Portland, OR 97035</td>\n",
       "      <td>1</td>\n",
       "      <td>Data\\Sales_August_2019.csv</td>\n",
       "    </tr>\n",
       "  </tbody>\n",
       "</table>\n",
       "</div>"
      ],
      "text/plain": [
       "       Order Date Order ID  Price Each                     Product  \\\n",
       "0  08/31/19 22:21   236670       11.99            Wired Headphones   \n",
       "1  08/15/19 15:11   236671       99.99  Bose SoundSport Headphones   \n",
       "2  08/06/19 14:40   236672      700.00                      iPhone   \n",
       "\n",
       "                   Purchase Address  Quantity Ordered  \\\n",
       "0  359 Spruce St, Seattle, WA 98101                 2   \n",
       "1    492 Ridge St, Dallas, TX 75001                 1   \n",
       "2    149 7th St, Portland, OR 97035                 1   \n",
       "\n",
       "                         file  \n",
       "0  Data\\Sales_August_2019.csv  \n",
       "1  Data\\Sales_August_2019.csv  \n",
       "2  Data\\Sales_August_2019.csv  "
      ]
     },
     "execution_count": 13,
     "metadata": {},
     "output_type": "execute_result"
    }
   ],
   "source": [
    "df.head(3)"
   ]
  },
  {
   "cell_type": "markdown",
   "metadata": {},
   "source": [
    "## Strip Column to remove extra characters"
   ]
  },
  {
   "cell_type": "code",
   "execution_count": 14,
   "metadata": {},
   "outputs": [
    {
     "name": "stdout",
     "output_type": "stream",
     "text": [
      "['Sales_August' 'Sales_December' 'Sales_February' 'Sales_January'\n",
      " 'Sales_July' 'Sales_June' 'Sales_March' 'Sales_May' 'Sales_November'\n",
      " 'Sales_October' 'Sales_September']\n"
     ]
    }
   ],
   "source": [
    "df['file'] = df['file'].str.rstrip('_2019.csv')\n",
    "\n",
    "df['file'] = df['file'].str.lstrip('Data\\\\')\n",
    "print(df['file'].unique())"
   ]
  },
  {
   "cell_type": "code",
   "execution_count": 52,
   "metadata": {},
   "outputs": [
    {
     "data": {
      "text/html": [
       "<div>\n",
       "<style scoped>\n",
       "    .dataframe tbody tr th:only-of-type {\n",
       "        vertical-align: middle;\n",
       "    }\n",
       "\n",
       "    .dataframe tbody tr th {\n",
       "        vertical-align: top;\n",
       "    }\n",
       "\n",
       "    .dataframe thead th {\n",
       "        text-align: right;\n",
       "    }\n",
       "</style>\n",
       "<table border=\"1\" class=\"dataframe\">\n",
       "  <thead>\n",
       "    <tr style=\"text-align: right;\">\n",
       "      <th></th>\n",
       "      <th>Order Date</th>\n",
       "      <th>Order ID</th>\n",
       "      <th>Price Each</th>\n",
       "      <th>Product</th>\n",
       "      <th>Purchase Address</th>\n",
       "      <th>Quantity Ordered</th>\n",
       "      <th>file</th>\n",
       "    </tr>\n",
       "  </thead>\n",
       "  <tbody>\n",
       "    <tr>\n",
       "      <td>0</td>\n",
       "      <td>08/31/19 22:21</td>\n",
       "      <td>236670</td>\n",
       "      <td>11.99</td>\n",
       "      <td>Wired Headphones</td>\n",
       "      <td>359 Spruce St, Seattle, WA 98101</td>\n",
       "      <td>2</td>\n",
       "      <td>Sales_August</td>\n",
       "    </tr>\n",
       "  </tbody>\n",
       "</table>\n",
       "</div>"
      ],
      "text/plain": [
       "       Order Date Order ID  Price Each           Product  \\\n",
       "0  08/31/19 22:21   236670       11.99  Wired Headphones   \n",
       "\n",
       "                   Purchase Address  Quantity Ordered          file  \n",
       "0  359 Spruce St, Seattle, WA 98101                 2  Sales_August  "
      ]
     },
     "execution_count": 52,
     "metadata": {},
     "output_type": "execute_result"
    }
   ],
   "source": [
    "df.head(1)"
   ]
  },
  {
   "cell_type": "markdown",
   "metadata": {},
   "source": [
    "## Copy of df"
   ]
  },
  {
   "cell_type": "code",
   "execution_count": 15,
   "metadata": {},
   "outputs": [
    {
     "data": {
      "text/html": [
       "<div>\n",
       "<style scoped>\n",
       "    .dataframe tbody tr th:only-of-type {\n",
       "        vertical-align: middle;\n",
       "    }\n",
       "\n",
       "    .dataframe tbody tr th {\n",
       "        vertical-align: top;\n",
       "    }\n",
       "\n",
       "    .dataframe thead th {\n",
       "        text-align: right;\n",
       "    }\n",
       "</style>\n",
       "<table border=\"1\" class=\"dataframe\">\n",
       "  <thead>\n",
       "    <tr style=\"text-align: right;\">\n",
       "      <th></th>\n",
       "      <th>Order Date</th>\n",
       "      <th>Order ID</th>\n",
       "      <th>Price Each</th>\n",
       "      <th>Product</th>\n",
       "      <th>Purchase Address</th>\n",
       "      <th>Quantity Ordered</th>\n",
       "      <th>file</th>\n",
       "    </tr>\n",
       "  </thead>\n",
       "  <tbody>\n",
       "    <tr>\n",
       "      <td>0</td>\n",
       "      <td>08/31/19 22:21</td>\n",
       "      <td>236670</td>\n",
       "      <td>11.99</td>\n",
       "      <td>Wired Headphones</td>\n",
       "      <td>359 Spruce St, Seattle, WA 98101</td>\n",
       "      <td>2</td>\n",
       "      <td>Sales_August</td>\n",
       "    </tr>\n",
       "    <tr>\n",
       "      <td>1</td>\n",
       "      <td>08/15/19 15:11</td>\n",
       "      <td>236671</td>\n",
       "      <td>99.99</td>\n",
       "      <td>Bose SoundSport Headphones</td>\n",
       "      <td>492 Ridge St, Dallas, TX 75001</td>\n",
       "      <td>1</td>\n",
       "      <td>Sales_August</td>\n",
       "    </tr>\n",
       "    <tr>\n",
       "      <td>2</td>\n",
       "      <td>08/06/19 14:40</td>\n",
       "      <td>236672</td>\n",
       "      <td>700.00</td>\n",
       "      <td>iPhone</td>\n",
       "      <td>149 7th St, Portland, OR 97035</td>\n",
       "      <td>1</td>\n",
       "      <td>Sales_August</td>\n",
       "    </tr>\n",
       "    <tr>\n",
       "      <td>3</td>\n",
       "      <td>08/29/19 20:59</td>\n",
       "      <td>236673</td>\n",
       "      <td>3.84</td>\n",
       "      <td>AA Batteries (4-pack)</td>\n",
       "      <td>631 2nd St, Los Angeles, CA 90001</td>\n",
       "      <td>2</td>\n",
       "      <td>Sales_August</td>\n",
       "    </tr>\n",
       "    <tr>\n",
       "      <td>4</td>\n",
       "      <td>08/15/19 19:53</td>\n",
       "      <td>236674</td>\n",
       "      <td>3.84</td>\n",
       "      <td>AA Batteries (4-pack)</td>\n",
       "      <td>736 14th St, New York City, NY 10001</td>\n",
       "      <td>2</td>\n",
       "      <td>Sales_August</td>\n",
       "    </tr>\n",
       "  </tbody>\n",
       "</table>\n",
       "</div>"
      ],
      "text/plain": [
       "       Order Date Order ID  Price Each                     Product  \\\n",
       "0  08/31/19 22:21   236670       11.99            Wired Headphones   \n",
       "1  08/15/19 15:11   236671       99.99  Bose SoundSport Headphones   \n",
       "2  08/06/19 14:40   236672      700.00                      iPhone   \n",
       "3  08/29/19 20:59   236673        3.84       AA Batteries (4-pack)   \n",
       "4  08/15/19 19:53   236674        3.84       AA Batteries (4-pack)   \n",
       "\n",
       "                       Purchase Address  Quantity Ordered          file  \n",
       "0      359 Spruce St, Seattle, WA 98101                 2  Sales_August  \n",
       "1        492 Ridge St, Dallas, TX 75001                 1  Sales_August  \n",
       "2        149 7th St, Portland, OR 97035                 1  Sales_August  \n",
       "3     631 2nd St, Los Angeles, CA 90001                 2  Sales_August  \n",
       "4  736 14th St, New York City, NY 10001                 2  Sales_August  "
      ]
     },
     "execution_count": 15,
     "metadata": {},
     "output_type": "execute_result"
    }
   ],
   "source": [
    "df_new=df\n",
    "df_new.head()"
   ]
  },
  {
   "cell_type": "markdown",
   "metadata": {},
   "source": [
    "## NEW COLUMN added (LAMBDA )"
   ]
  },
  {
   "cell_type": "code",
   "execution_count": 16,
   "metadata": {},
   "outputs": [
    {
     "data": {
      "text/html": [
       "<div>\n",
       "<style scoped>\n",
       "    .dataframe tbody tr th:only-of-type {\n",
       "        vertical-align: middle;\n",
       "    }\n",
       "\n",
       "    .dataframe tbody tr th {\n",
       "        vertical-align: top;\n",
       "    }\n",
       "\n",
       "    .dataframe thead th {\n",
       "        text-align: right;\n",
       "    }\n",
       "</style>\n",
       "<table border=\"1\" class=\"dataframe\">\n",
       "  <thead>\n",
       "    <tr style=\"text-align: right;\">\n",
       "      <th></th>\n",
       "      <th>Order Date</th>\n",
       "      <th>Order ID</th>\n",
       "      <th>Price Each</th>\n",
       "      <th>Product</th>\n",
       "      <th>Purchase Address</th>\n",
       "      <th>Quantity Ordered</th>\n",
       "      <th>file</th>\n",
       "      <th>Total Price</th>\n",
       "    </tr>\n",
       "  </thead>\n",
       "  <tbody>\n",
       "    <tr>\n",
       "      <td>0</td>\n",
       "      <td>08/31/19 22:21</td>\n",
       "      <td>236670</td>\n",
       "      <td>11.99</td>\n",
       "      <td>Wired Headphones</td>\n",
       "      <td>359 Spruce St, Seattle, WA 98101</td>\n",
       "      <td>2</td>\n",
       "      <td>Sales_August</td>\n",
       "      <td>23.98</td>\n",
       "    </tr>\n",
       "    <tr>\n",
       "      <td>1</td>\n",
       "      <td>08/15/19 15:11</td>\n",
       "      <td>236671</td>\n",
       "      <td>99.99</td>\n",
       "      <td>Bose SoundSport Headphones</td>\n",
       "      <td>492 Ridge St, Dallas, TX 75001</td>\n",
       "      <td>1</td>\n",
       "      <td>Sales_August</td>\n",
       "      <td>99.99</td>\n",
       "    </tr>\n",
       "    <tr>\n",
       "      <td>2</td>\n",
       "      <td>08/06/19 14:40</td>\n",
       "      <td>236672</td>\n",
       "      <td>700.00</td>\n",
       "      <td>iPhone</td>\n",
       "      <td>149 7th St, Portland, OR 97035</td>\n",
       "      <td>1</td>\n",
       "      <td>Sales_August</td>\n",
       "      <td>700.00</td>\n",
       "    </tr>\n",
       "    <tr>\n",
       "      <td>3</td>\n",
       "      <td>08/29/19 20:59</td>\n",
       "      <td>236673</td>\n",
       "      <td>3.84</td>\n",
       "      <td>AA Batteries (4-pack)</td>\n",
       "      <td>631 2nd St, Los Angeles, CA 90001</td>\n",
       "      <td>2</td>\n",
       "      <td>Sales_August</td>\n",
       "      <td>7.68</td>\n",
       "    </tr>\n",
       "    <tr>\n",
       "      <td>4</td>\n",
       "      <td>08/15/19 19:53</td>\n",
       "      <td>236674</td>\n",
       "      <td>3.84</td>\n",
       "      <td>AA Batteries (4-pack)</td>\n",
       "      <td>736 14th St, New York City, NY 10001</td>\n",
       "      <td>2</td>\n",
       "      <td>Sales_August</td>\n",
       "      <td>7.68</td>\n",
       "    </tr>\n",
       "  </tbody>\n",
       "</table>\n",
       "</div>"
      ],
      "text/plain": [
       "       Order Date Order ID  Price Each                     Product  \\\n",
       "0  08/31/19 22:21   236670       11.99            Wired Headphones   \n",
       "1  08/15/19 15:11   236671       99.99  Bose SoundSport Headphones   \n",
       "2  08/06/19 14:40   236672      700.00                      iPhone   \n",
       "3  08/29/19 20:59   236673        3.84       AA Batteries (4-pack)   \n",
       "4  08/15/19 19:53   236674        3.84       AA Batteries (4-pack)   \n",
       "\n",
       "                       Purchase Address  Quantity Ordered          file  \\\n",
       "0      359 Spruce St, Seattle, WA 98101                 2  Sales_August   \n",
       "1        492 Ridge St, Dallas, TX 75001                 1  Sales_August   \n",
       "2        149 7th St, Portland, OR 97035                 1  Sales_August   \n",
       "3     631 2nd St, Los Angeles, CA 90001                 2  Sales_August   \n",
       "4  736 14th St, New York City, NY 10001                 2  Sales_August   \n",
       "\n",
       "   Total Price  \n",
       "0        23.98  \n",
       "1        99.99  \n",
       "2       700.00  \n",
       "3         7.68  \n",
       "4         7.68  "
      ]
     },
     "execution_count": 16,
     "metadata": {},
     "output_type": "execute_result"
    }
   ],
   "source": [
    "df_new['Total Price']=df_new['Price Each']* df_new['Quantity Ordered']\n",
    "df_new.head(5)\n",
    "\n",
    "OR Using Lambda (Feature Engineering)\n",
    "\n",
    "df_new.loc[:,'Total']=df_new.loc[:,('Price Each',\"Quantity Ordered\")].apply(lambda x: (x[\"Price Each\"]*x[\"Quantity Ordered\"]),axis=1)\n",
    "# adding 5 to each value of Price Each Column \n",
    "df_new.loc[:,'Price Each']=df_new.loc[:,('Price Each')].apply(lambda num : num + 5)\n",
    "df_new.head()"
   ]
  },
  {
   "cell_type": "code",
   "execution_count": null,
   "metadata": {},
   "outputs": [],
   "source": []
  },
  {
   "cell_type": "code",
   "execution_count": 19,
   "metadata": {},
   "outputs": [],
   "source": [
    "# Saving to a CSV file\n",
    "df_new.to_csv(\"myDataFrame2.csv\")"
   ]
  },
  {
   "cell_type": "code",
   "execution_count": 385,
   "metadata": {},
   "outputs": [],
   "source": [
    "import matplotlib.pyplot as plt\n",
    "import matplotlib.mlab as mlab\n",
    "import matplotlib\n",
    "plt.style.use('ggplot')\n",
    "from matplotlib.pyplot import figure\n",
    "\n",
    "%matplotlib inline\n",
    "matplotlib.rcParams['figure.figsize'] = (12,8)\n",
    "\n",
    "pd.options.mode.chained_assignment = None"
   ]
  },
  {
   "cell_type": "markdown",
   "metadata": {},
   "source": [
    "## GroupBy MOnths column 'FILE'"
   ]
  },
  {
   "cell_type": "code",
   "execution_count": 55,
   "metadata": {},
   "outputs": [
    {
     "name": "stdout",
     "output_type": "stream",
     "text": [
      "                 Price Each  Quantity Ordered  Total Price\n",
      "file                                                      \n",
      "Sales_August     2226915.16             13423   2241027.80\n",
      "Sales_December   4588971.31             28081   4614149.48\n",
      "Sales_February   2188395.36             13443   2201536.90\n",
      "Sales_January    1804170.09             10858   1814491.55\n",
      "Sales_July       2630372.11             16051   2645585.25\n",
      "Sales_June       2560974.47             15236   2576771.19\n",
      "Sales_March      2791048.41             16980   2806936.27\n",
      "Sales_May        3125106.68             18643   3142594.28\n",
      "Sales_November   3178176.85             19779   3197181.08\n",
      "Sales_October    3713757.01             22671   3734935.03\n",
      "Sales_September  2083148.24             13101   2095722.26\n"
     ]
    }
   ],
   "source": [
    "#  What was the best month for sales? How much was earned that month?\n",
    "# We are considering the Quantitity Ordered is the factor to tell best month for sales.\n",
    "\n",
    "df_file=df.groupby(df['file'])\n",
    "df_sum=df_file.sum()\n",
    "print(df_sum)\n"
   ]
  },
  {
   "cell_type": "code",
   "execution_count": 16,
   "metadata": {},
   "outputs": [],
   "source": [
    "# To make the decimal limit upto 2 so that python will not convert it to log e power.\n",
    "pd.options.display.float_format='{:.2f}'.format"
   ]
  },
  {
   "cell_type": "markdown",
   "metadata": {},
   "source": [
    "## Solution 1) DECEMBER is best month for sales & total Price value is"
   ]
  },
  {
   "cell_type": "code",
   "execution_count": 58,
   "metadata": {},
   "outputs": [
    {
     "name": "stdout",
     "output_type": "stream",
     "text": [
      "                 Price Each  Quantity Ordered  Total Price\n",
      "file                                                      \n",
      "Sales_January    1804170.09             10858   1814491.55\n",
      "Sales_September  2083148.24             13101   2095722.26\n",
      "Sales_August     2226915.16             13423   2241027.80\n",
      "Sales_February   2188395.36             13443   2201536.90\n",
      "Sales_June       2560974.47             15236   2576771.19\n",
      "Sales_July       2630372.11             16051   2645585.25\n",
      "Sales_March      2791048.41             16980   2806936.27\n",
      "Sales_May        3125106.68             18643   3142594.28\n",
      "Sales_November   3178176.85             19779   3197181.08\n",
      "Sales_October    3713757.01             22671   3734935.03\n",
      "Sales_December   4588971.31             28081   4614149.48\n",
      "       Order Date Order ID  Price Each           Product  \\\n",
      "0  08/31/19 22:21   236670       11.99  Wired Headphones   \n",
      "\n",
      "                   Purchase Address  Quantity Ordered          file  \\\n",
      "0  359 Spruce St, Seattle, WA 98101                 2  Sales_August   \n",
      "\n",
      "   Total Price  \n",
      "0        23.98  \n",
      "\n",
      " TOtal Price of the December Month with highest sales: \n",
      "                 Price Each  Quantity Ordered  Total Price\n",
      "file                                                     \n",
      "Sales_December  4588971.31             28081   4614149.48\n"
     ]
    }
   ],
   "source": [
    "print(df_sum.sort_values(by='Quantity Ordered'))\n",
    "print(df.head(1))\n",
    "best_month=df_sum.sort_values(by='Quantity Ordered')\n",
    "print()\n",
    "print(\" TOtal Price of the December Month with highest sales: \\n\",best_month.nlargest(1,'Total Price'))\n",
    "\n"
   ]
  },
  {
   "cell_type": "markdown",
   "metadata": {},
   "source": [
    "## Solution 5) Product most selled with quantity 28053.0"
   ]
  },
  {
   "cell_type": "code",
   "execution_count": 59,
   "metadata": {},
   "outputs": [
    {
     "name": "stdout",
     "output_type": "stream",
     "text": [
      "                            Price Each  Quantity Ordered  Total Price\n",
      "Product                                                              \n",
      "20in Monitor                 407952.91              3732    410482.68\n",
      "27in 4K Gaming Monitor      2208123.38              5674   2212803.26\n",
      "27in FHD Monitor            1014532.36              6804   1020531.96\n",
      "34in Ultrawide Monitor      2099444.75              5540   2105144.60\n",
      "AA Batteries (4-pack)         71024.64             24794     95208.96\n",
      "AAA Batteries (4-pack)        55691.74             28053     83878.47\n",
      "Apple Airpods Headphones    2101800.00             14114   2117100.00\n",
      "Bose SoundSport Headphones  1201879.80             12144   1214278.56\n",
      "Flatscreen TV               1301100.00              4355   1306500.00\n",
      "Google Phone                2964600.00              4948   2968800.00\n",
      "LG Dryer                     341400.00               569    341400.00\n",
      "LG Washing Machine           363000.00               605    363000.00\n",
      "Lightning Charging Cable     290254.25             20804    311019.80\n",
      "Macbook Pro Laptop          7255600.00              4270   7259000.00\n",
      "ThinkPad Laptop             3733962.66              3736   3735962.64\n",
      "USB-C Charging Cable         236418.80             21665    258896.75\n",
      "Vareebadd Phone              738000.00              1848    739200.00\n",
      "Wired Headphones             203350.40             18459    221323.41\n",
      "iPhone                      4302900.00              6152   4306400.00\n"
     ]
    }
   ],
   "source": [
    "df_product=df.groupby(df['Product'])\n",
    "df_productsum=df_product.sum()\n",
    "print(df_productsum)\n"
   ]
  },
  {
   "cell_type": "code",
   "execution_count": 60,
   "metadata": {},
   "outputs": [
    {
     "name": "stdout",
     "output_type": "stream",
     "text": [
      "                            Price Each  Quantity Ordered  Total Price\n",
      "Product                                                              \n",
      "LG Dryer                     341400.00               569    341400.00\n",
      "LG Washing Machine           363000.00               605    363000.00\n",
      "Vareebadd Phone              738000.00              1848    739200.00\n",
      "20in Monitor                 407952.91              3732    410482.68\n",
      "ThinkPad Laptop             3733962.66              3736   3735962.64\n",
      "Macbook Pro Laptop          7255600.00              4270   7259000.00\n",
      "Flatscreen TV               1301100.00              4355   1306500.00\n",
      "Google Phone                2964600.00              4948   2968800.00\n",
      "34in Ultrawide Monitor      2099444.75              5540   2105144.60\n",
      "27in 4K Gaming Monitor      2208123.38              5674   2212803.26\n",
      "iPhone                      4302900.00              6152   4306400.00\n",
      "27in FHD Monitor            1014532.36              6804   1020531.96\n",
      "Bose SoundSport Headphones  1201879.80             12144   1214278.56\n",
      "Apple Airpods Headphones    2101800.00             14114   2117100.00\n",
      "Wired Headphones             203350.40             18459    221323.41\n",
      "Lightning Charging Cable     290254.25             20804    311019.80\n",
      "USB-C Charging Cable         236418.80             21665    258896.75\n",
      "AA Batteries (4-pack)         71024.64             24794     95208.96\n",
      "AAA Batteries (4-pack)        55691.74             28053     83878.47\n",
      "\n",
      " Quantity of the product selled most with highest sales \n",
      "                         Price Each  Quantity Ordered  Total Price\n",
      "Product                                                          \n",
      "AAA Batteries (4-pack)    55691.74             28053     83878.47\n",
      "\n"
     ]
    }
   ],
   "source": [
    "print(df_productsum.sort_values(by='Quantity Ordered'))\n",
    "print()\n",
    "best_product=df_productsum.sort_values(by='Quantity Ordered')\n",
    "print(\" Quantity of the product selled most with highest sales \\n\",best_product.nlargest(1,'Quantity Ordered'))\n",
    "print()\n",
    "\n"
   ]
  },
  {
   "cell_type": "code",
   "execution_count": 62,
   "metadata": {},
   "outputs": [
    {
     "data": {
      "text/html": [
       "<div>\n",
       "<style scoped>\n",
       "    .dataframe tbody tr th:only-of-type {\n",
       "        vertical-align: middle;\n",
       "    }\n",
       "\n",
       "    .dataframe tbody tr th {\n",
       "        vertical-align: top;\n",
       "    }\n",
       "\n",
       "    .dataframe thead th {\n",
       "        text-align: right;\n",
       "    }\n",
       "</style>\n",
       "<table border=\"1\" class=\"dataframe\">\n",
       "  <thead>\n",
       "    <tr style=\"text-align: right;\">\n",
       "      <th></th>\n",
       "      <th>Order Date</th>\n",
       "      <th>Order ID</th>\n",
       "      <th>Price Each</th>\n",
       "      <th>Product</th>\n",
       "      <th>Purchase Address</th>\n",
       "      <th>Quantity Ordered</th>\n",
       "      <th>file</th>\n",
       "      <th>Total Price</th>\n",
       "    </tr>\n",
       "  </thead>\n",
       "  <tbody>\n",
       "    <tr>\n",
       "      <td>0</td>\n",
       "      <td>08/31/19 22:21</td>\n",
       "      <td>236670</td>\n",
       "      <td>11.99</td>\n",
       "      <td>Wired Headphones</td>\n",
       "      <td>359 Spruce St, Seattle, WA 98101</td>\n",
       "      <td>2</td>\n",
       "      <td>Sales_August</td>\n",
       "      <td>23.98</td>\n",
       "    </tr>\n",
       "    <tr>\n",
       "      <td>1</td>\n",
       "      <td>08/15/19 15:11</td>\n",
       "      <td>236671</td>\n",
       "      <td>99.99</td>\n",
       "      <td>Bose SoundSport Headphones</td>\n",
       "      <td>492 Ridge St, Dallas, TX 75001</td>\n",
       "      <td>1</td>\n",
       "      <td>Sales_August</td>\n",
       "      <td>99.99</td>\n",
       "    </tr>\n",
       "  </tbody>\n",
       "</table>\n",
       "</div>"
      ],
      "text/plain": [
       "       Order Date Order ID  Price Each                     Product  \\\n",
       "0  08/31/19 22:21   236670       11.99            Wired Headphones   \n",
       "1  08/15/19 15:11   236671       99.99  Bose SoundSport Headphones   \n",
       "\n",
       "                   Purchase Address  Quantity Ordered          file  \\\n",
       "0  359 Spruce St, Seattle, WA 98101                 2  Sales_August   \n",
       "1    492 Ridge St, Dallas, TX 75001                 1  Sales_August   \n",
       "\n",
       "   Total Price  \n",
       "0        23.98  \n",
       "1        99.99  "
      ]
     },
     "execution_count": 62,
     "metadata": {},
     "output_type": "execute_result"
    }
   ],
   "source": [
    "df.head(2)"
   ]
  },
  {
   "cell_type": "markdown",
   "metadata": {},
   "source": [
    "## Question 2 which city has most product sold"
   ]
  },
  {
   "cell_type": "code",
   "execution_count": 66,
   "metadata": {},
   "outputs": [
    {
     "name": "stdout",
     "output_type": "stream",
     "text": [
      "       Order Date Order ID  Price Each           Product  \\\n",
      "0  08/31/19 22:21   236670       11.99  Wired Headphones   \n",
      "\n",
      "                   Purchase Address  Quantity Ordered          file  \\\n",
      "0  359 Spruce St, Seattle, WA 98101                 2  Sales_August   \n",
      "\n",
      "   Total Price      City         Street      State  \n",
      "0        23.98   Seattle  359 Spruce St   WA 98101  \n",
      "       Order Date Order ID  Price Each           Product  \\\n",
      "0  08/31/19 22:21   236670       11.99  Wired Headphones   \n",
      "\n",
      "                   Purchase Address  Quantity Ordered          file  \\\n",
      "0  359 Spruce St, Seattle, WA 98101                 2  Sales_August   \n",
      "\n",
      "   Total Price      City  \n",
      "0        23.98   Seattle  \n"
     ]
    }
   ],
   "source": [
    "df[['Street','City','State']] = df['Purchase Address'].str.split(\",\",expand=True)\n",
    "print(df.head(1))\n",
    "df = df.drop([\"Street\", \"State\"], axis=1)\n",
    "print(df.head(1))\n"
   ]
  },
  {
   "cell_type": "code",
   "execution_count": 70,
   "metadata": {},
   "outputs": [
    {
     "name": "stdout",
     "output_type": "stream",
     "text": [
      "                Price Each  Quantity Ordered  Total Price\n",
      "City                                                     \n",
      " Atlanta        2495755.71             14953   2509771.05\n",
      " Austin         1636852.38             10045   1645360.74\n",
      " Boston         3283070.59             20307   3305162.43\n",
      " Dallas         2498462.28             15190   2512658.43\n",
      " Los Angeles    4869364.41             29853   4897088.94\n",
      " New York City  4190660.73             25167   4215412.23\n",
      " Portland       2066495.88             12638   2078203.83\n",
      " San Francisco  7393701.96             45185   7437707.67\n",
      " Seattle        2456671.75             14928   2469565.77\n"
     ]
    }
   ],
   "source": [
    "df_city=df.groupby(df['City'])\n",
    "df_citysum=df_city.sum()\n",
    "print(df_citysum)"
   ]
  },
  {
   "cell_type": "code",
   "execution_count": 72,
   "metadata": {},
   "outputs": [
    {
     "name": "stdout",
     "output_type": "stream",
     "text": [
      "                Price Each  Quantity Ordered  Total Price\n",
      "City                                                     \n",
      " Austin         1636852.38             10045   1645360.74\n",
      " Portland       2066495.88             12638   2078203.83\n",
      " Seattle        2456671.75             14928   2469565.77\n",
      " Atlanta        2495755.71             14953   2509771.05\n",
      " Dallas         2498462.28             15190   2512658.43\n",
      " Boston         3283070.59             20307   3305162.43\n",
      " New York City  4190660.73             25167   4215412.23\n",
      " Los Angeles    4869364.41             29853   4897088.94\n",
      " San Francisco  7393701.96             45185   7437707.67\n",
      "\n",
      " Quantity of the product selled most with highest sales \n",
      "                 Price Each  Quantity Ordered  Total Price\n",
      "City                                                     \n",
      " San Francisco  7393701.96             45185   7437707.67\n",
      "\n"
     ]
    }
   ],
   "source": [
    "print(df_citysum.sort_values(by='Quantity Ordered'))\n",
    "print()\n",
    "best_city=df_citysum.sort_values(by='Quantity Ordered')\n",
    "print(\" Quantity of the product selled most with highest sales \\n\",best_city.nlargest(1,'Quantity Ordered'))\n",
    "print()\n",
    "\n"
   ]
  },
  {
   "cell_type": "code",
   "execution_count": 74,
   "metadata": {},
   "outputs": [
    {
     "data": {
      "text/html": [
       "<div>\n",
       "<style scoped>\n",
       "    .dataframe tbody tr th:only-of-type {\n",
       "        vertical-align: middle;\n",
       "    }\n",
       "\n",
       "    .dataframe tbody tr th {\n",
       "        vertical-align: top;\n",
       "    }\n",
       "\n",
       "    .dataframe thead th {\n",
       "        text-align: right;\n",
       "    }\n",
       "</style>\n",
       "<table border=\"1\" class=\"dataframe\">\n",
       "  <thead>\n",
       "    <tr style=\"text-align: right;\">\n",
       "      <th></th>\n",
       "      <th>Order Date</th>\n",
       "      <th>Order ID</th>\n",
       "      <th>Price Each</th>\n",
       "      <th>Product</th>\n",
       "      <th>Purchase Address</th>\n",
       "      <th>Quantity Ordered</th>\n",
       "      <th>file</th>\n",
       "      <th>Total Price</th>\n",
       "      <th>City</th>\n",
       "    </tr>\n",
       "  </thead>\n",
       "  <tbody>\n",
       "    <tr>\n",
       "      <td>0</td>\n",
       "      <td>08/31/19 22:21</td>\n",
       "      <td>236670</td>\n",
       "      <td>11.99</td>\n",
       "      <td>Wired Headphones</td>\n",
       "      <td>359 Spruce St, Seattle, WA 98101</td>\n",
       "      <td>2</td>\n",
       "      <td>Sales_August</td>\n",
       "      <td>23.98</td>\n",
       "      <td>Seattle</td>\n",
       "    </tr>\n",
       "  </tbody>\n",
       "</table>\n",
       "</div>"
      ],
      "text/plain": [
       "       Order Date Order ID  Price Each           Product  \\\n",
       "0  08/31/19 22:21   236670       11.99  Wired Headphones   \n",
       "\n",
       "                   Purchase Address  Quantity Ordered          file  \\\n",
       "0  359 Spruce St, Seattle, WA 98101                 2  Sales_August   \n",
       "\n",
       "   Total Price      City  \n",
       "0        23.98   Seattle  "
      ]
     },
     "execution_count": 74,
     "metadata": {},
     "output_type": "execute_result"
    }
   ],
   "source": [
    "df.head(1)"
   ]
  },
  {
   "cell_type": "markdown",
   "metadata": {},
   "source": [
    "## SOlution 3) What time is best to advertise"
   ]
  },
  {
   "cell_type": "code",
   "execution_count": 92,
   "metadata": {},
   "outputs": [
    {
     "data": {
      "text/html": [
       "<div>\n",
       "<style scoped>\n",
       "    .dataframe tbody tr th:only-of-type {\n",
       "        vertical-align: middle;\n",
       "    }\n",
       "\n",
       "    .dataframe tbody tr th {\n",
       "        vertical-align: top;\n",
       "    }\n",
       "\n",
       "    .dataframe thead th {\n",
       "        text-align: right;\n",
       "    }\n",
       "</style>\n",
       "<table border=\"1\" class=\"dataframe\">\n",
       "  <thead>\n",
       "    <tr style=\"text-align: right;\">\n",
       "      <th></th>\n",
       "      <th>Order Date</th>\n",
       "      <th>Order ID</th>\n",
       "      <th>Price Each</th>\n",
       "      <th>Product</th>\n",
       "      <th>Purchase Address</th>\n",
       "      <th>Quantity Ordered</th>\n",
       "      <th>file</th>\n",
       "      <th>Total Price</th>\n",
       "      <th>Time</th>\n",
       "    </tr>\n",
       "  </thead>\n",
       "  <tbody>\n",
       "    <tr>\n",
       "      <td>0</td>\n",
       "      <td>08/31/19</td>\n",
       "      <td>236670</td>\n",
       "      <td>11.99</td>\n",
       "      <td>Wired Headphones</td>\n",
       "      <td>359 Spruce St, Seattle, WA 98101</td>\n",
       "      <td>2</td>\n",
       "      <td>Sales_August</td>\n",
       "      <td>23.98</td>\n",
       "      <td>22:21</td>\n",
       "    </tr>\n",
       "  </tbody>\n",
       "</table>\n",
       "</div>"
      ],
      "text/plain": [
       "  Order Date Order ID  Price Each           Product  \\\n",
       "0   08/31/19   236670       11.99  Wired Headphones   \n",
       "\n",
       "                   Purchase Address  Quantity Ordered          file  \\\n",
       "0  359 Spruce St, Seattle, WA 98101                 2  Sales_August   \n",
       "\n",
       "   Total Price   Time  \n",
       "0        23.98  22:21  "
      ]
     },
     "execution_count": 92,
     "metadata": {},
     "output_type": "execute_result"
    }
   ],
   "source": [
    "df[['Order Date','Time']]=df['Order Date'].str.split(\" \",expand=True)\n",
    "df.head(1)"
   ]
  },
  {
   "cell_type": "code",
   "execution_count": 93,
   "metadata": {},
   "outputs": [
    {
     "name": "stdout",
     "output_type": "stream",
     "text": [
      "       Price Each  Quantity Ordered  Total Price\n",
      "Time                                            \n",
      "00:00    18319.53                80     18357.95\n",
      "00:01    10910.32                69     10941.06\n",
      "00:02    10451.03                73     10937.82\n",
      "00:03    16722.03                82     16785.72\n",
      "00:04    16627.68                85     16661.41\n",
      "...           ...               ...          ...\n",
      "23:55    15422.33                96     15494.55\n",
      "23:56    17406.56                74     17445.46\n",
      "23:57    12951.30                87     12986.74\n",
      "23:58    17834.64                88     17874.77\n",
      "23:59    15431.98                92     15460.59\n",
      "\n",
      "[1440 rows x 3 columns]\n"
     ]
    }
   ],
   "source": [
    "df_time=df.groupby(df['Time'])\n",
    "df_timesum=df_time.sum()\n",
    "print(df_timesum)"
   ]
  },
  {
   "cell_type": "code",
   "execution_count": 95,
   "metadata": {},
   "outputs": [
    {
     "name": "stdout",
     "output_type": "stream",
     "text": [
      "       Price Each  Quantity Ordered  Total Price\n",
      "Time                                            \n",
      "04:05      277.72                 5       277.72\n",
      "03:29      572.86                 6       572.86\n",
      "03:23     1845.94                 7      1845.94\n",
      "03:42     1659.86                 7      1659.86\n",
      "03:28     1891.90                 7      1891.90\n",
      "...           ...               ...          ...\n",
      "13:06    40852.06               249     41057.09\n",
      "19:20    41484.54               250     41642.25\n",
      "13:25    34466.44               253     34640.67\n",
      "19:17    41628.63               253     42333.22\n",
      "11:26    47958.05               254     48107.07\n",
      "\n",
      "[1440 rows x 3 columns]\n",
      "\n",
      " Best time to advertise to maximize the likelihood of the customer’s buying products \n",
      "        Price Each  Quantity Ordered  Total Price\n",
      "Time                                            \n",
      "11:26    47958.05               254     48107.07\n",
      "13:25    34466.44               253     34640.67\n",
      "19:17    41628.63               253     42333.22\n",
      "19:20    41484.54               250     41642.25\n",
      "13:06    40852.06               249     41057.09\n",
      "\n"
     ]
    }
   ],
   "source": [
    "print(df_timesum.sort_values(by='Quantity Ordered'))\n",
    "print()\n",
    "best_time=df_timesum.sort_values(by='Quantity Ordered')\n",
    "print(\" Best time to advertise to maximize the likelihood of the customer’s buying products \\n\",best_time.nlargest(5,'Quantity Ordered'))\n",
    "print()\n"
   ]
  },
  {
   "cell_type": "markdown",
   "metadata": {},
   "source": [
    "## Question 4)  What products are most often sold together?"
   ]
  },
  {
   "cell_type": "code",
   "execution_count": null,
   "metadata": {},
   "outputs": [],
   "source": [
    "# Implement this code for this question\n",
    "# from collections import Counter\n",
    "# language_counter=Counter()\n",
    "# language_counter.update(df['LanguagesWorkedWith'])\n",
    "# language_counter"
   ]
  },
  {
   "cell_type": "code",
   "execution_count": null,
   "metadata": {},
   "outputs": [],
   "source": [
    "df_together=df[['Order ID','Product']]\n",
    "df_together.head()"
   ]
  },
  {
   "cell_type": "code",
   "execution_count": null,
   "metadata": {},
   "outputs": [],
   "source": [
    "\n",
    "df_together=df_together.groupby('Order ID')['Product'].apply(list).reset_index(name='new')\n",
    "df_together.head(2)"
   ]
  },
  {
   "cell_type": "code",
   "execution_count": null,
   "metadata": {},
   "outputs": [],
   "source": [
    "print(df_together.shape)\n",
    "print(df_together.isnull().sum())\n",
    "\n",
    "print(df_together.dropna(inplace=True))\n",
    "print(df_together.shape)"
   ]
  },
  {
   "cell_type": "code",
   "execution_count": null,
   "metadata": {},
   "outputs": [],
   "source": [
    "df_together['new'].value_counts()"
   ]
  },
  {
   "cell_type": "code",
   "execution_count": null,
   "metadata": {},
   "outputs": [],
   "source": [
    "df_together['Length'] = df_together.new.apply(lambda x: len(x))"
   ]
  },
  {
   "cell_type": "code",
   "execution_count": null,
   "metadata": {},
   "outputs": [],
   "source": [
    "df_final=df_together[df_together['Length']>1]\n",
    "df_final"
   ]
  },
  {
   "cell_type": "code",
   "execution_count": null,
   "metadata": {},
   "outputs": [],
   "source": [
    "df_final['liststring'] = df_final['new'].apply(lambda x: ','.join(map(str, x)))"
   ]
  },
  {
   "cell_type": "code",
   "execution_count": null,
   "metadata": {},
   "outputs": [],
   "source": [
    "print(df_final.drop(columns='new'))"
   ]
  },
  {
   "cell_type": "code",
   "execution_count": null,
   "metadata": {},
   "outputs": [],
   "source": [
    "# Create new column count with value 1\n",
    "df_final.loc[:,'Count']=1"
   ]
  },
  {
   "cell_type": "code",
   "execution_count": null,
   "metadata": {},
   "outputs": [],
   "source": [
    "\n",
    "\n",
    "df_final=df_final.groupby(df_final['liststring'])\n",
    "df_sum=df_final.sum()\n",
    "print(df_sum)\n"
   ]
  },
  {
   "cell_type": "code",
   "execution_count": null,
   "metadata": {},
   "outputs": [],
   "source": [
    "print(df_sum.sort_values(by='count'))\n",
    "print()\n",
    "sell_together=df_sum.sort_values(by='count')\n",
    "print(\" product most sold together \\n\",sell_together.nlargest(1,'count'))\n",
    "print()\n",
    "\n"
   ]
  },
  {
   "cell_type": "code",
   "execution_count": null,
   "metadata": {},
   "outputs": [],
   "source": []
  },
  {
   "cell_type": "code",
   "execution_count": null,
   "metadata": {},
   "outputs": [],
   "source": []
  }
 ],
 "metadata": {
  "kernelspec": {
   "display_name": "Python 3",
   "language": "python",
   "name": "python3"
  },
  "language_info": {
   "codemirror_mode": {
    "name": "ipython",
    "version": 3
   },
   "file_extension": ".py",
   "mimetype": "text/x-python",
   "name": "python",
   "nbconvert_exporter": "python",
   "pygments_lexer": "ipython3",
   "version": "3.7.3"
  }
 },
 "nbformat": 4,
 "nbformat_minor": 2
}
