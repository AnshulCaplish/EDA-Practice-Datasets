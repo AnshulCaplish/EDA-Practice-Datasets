{
 "cells": [
  {
   "cell_type": "markdown",
   "metadata": {},
   "source": [
    "## Solution 1) Which  is best month for sales & total Price value is(December)\n",
    "## Question 2 which city has most product sold\n",
    "## SOlution 3) What time is best to advertise\n",
    "## Question 4)  What products are most often sold together?\n",
    "## Solution 5) Product most selled with quantity (28053.0)"
   ]
  },
  {
   "cell_type": "code",
   "execution_count": 88,
   "metadata": {},
   "outputs": [],
   "source": [
    "import numpy as np\n",
    "import pandas as pd"
   ]
  },
  {
   "cell_type": "code",
   "execution_count": 89,
   "metadata": {},
   "outputs": [
    {
     "name": "stdout",
     "output_type": "stream",
     "text": [
      "(168467, 7)\n",
      "       Order Date Order ID Price Each                     Product  \\\n",
      "0  08/31/19 22:21   236670      11.99            Wired Headphones   \n",
      "1  08/15/19 15:11   236671      99.99  Bose SoundSport Headphones   \n",
      "\n",
      "                   Purchase Address Quantity Ordered  \\\n",
      "0  359 Spruce St, Seattle, WA 98101                2   \n",
      "1    492 Ridge St, Dallas, TX 75001                1   \n",
      "\n",
      "                         file  \n",
      "0  Data\\Sales_August_2019.csv  \n",
      "1  Data\\Sales_August_2019.csv  \n"
     ]
    }
   ],
   "source": [
    "df=pd.read_csv(\"ConsolidateOutput.csv\")\n",
    "print(df.shape)\n",
    "print(df.head(2))"
   ]
  },
  {
   "cell_type": "code",
   "execution_count": 90,
   "metadata": {},
   "outputs": [
    {
     "name": "stdout",
     "output_type": "stream",
     "text": [
      "None\n",
      "(167981, 7)\n"
     ]
    }
   ],
   "source": [
    "print(df.dropna(inplace=True))\n",
    "print(df.shape)\n"
   ]
  },
  {
   "cell_type": "code",
   "execution_count": 91,
   "metadata": {},
   "outputs": [
    {
     "name": "stdout",
     "output_type": "stream",
     "text": [
      "None\n",
      "0\n"
     ]
    }
   ],
   "source": [
    "print(df.drop_duplicates(inplace=True))\n",
    "print(df.duplicated().sum())"
   ]
  },
  {
   "cell_type": "code",
   "execution_count": 92,
   "metadata": {},
   "outputs": [
    {
     "data": {
      "text/plain": [
       "(167419, 7)"
      ]
     },
     "execution_count": 92,
     "metadata": {},
     "output_type": "execute_result"
    }
   ],
   "source": [
    "df = df.drop(df[df['Order ID'] == 'Order ID'].index)\n",
    "df.shape"
   ]
  },
  {
   "cell_type": "code",
   "execution_count": 93,
   "metadata": {},
   "outputs": [
    {
     "data": {
      "text/plain": [
       "Order Date           object\n",
       "Order ID             object\n",
       "Price Each          float64\n",
       "Product              object\n",
       "Purchase Address     object\n",
       "Quantity Ordered      int64\n",
       "file                 object\n",
       "dtype: object"
      ]
     },
     "execution_count": 93,
     "metadata": {},
     "output_type": "execute_result"
    }
   ],
   "source": [
    "df['Price Each'] = pd.to_numeric(df['Price Each'])\n",
    "df['Quantity Ordered'] = pd.to_numeric(df['Quantity Ordered'])\n",
    "df.dtypes"
   ]
  },
  {
   "cell_type": "code",
   "execution_count": 94,
   "metadata": {},
   "outputs": [
    {
     "name": "stdout",
     "output_type": "stream",
     "text": [
      "['Sales_August' 'Sales_December' 'Sales_February' 'Sales_January'\n",
      " 'Sales_July' 'Sales_June' 'Sales_March' 'Sales_May' 'Sales_November'\n",
      " 'Sales_October' 'Sales_September']\n"
     ]
    }
   ],
   "source": [
    "df['file'] = df['file'].str.rstrip('_2019.csv')\n",
    "\n",
    "df['file'] = df['file'].str.lstrip('Data\\\\')\n",
    "print(df['file'].unique())"
   ]
  },
  {
   "cell_type": "code",
   "execution_count": 95,
   "metadata": {},
   "outputs": [
    {
     "data": {
      "text/html": [
       "<div>\n",
       "<style scoped>\n",
       "    .dataframe tbody tr th:only-of-type {\n",
       "        vertical-align: middle;\n",
       "    }\n",
       "\n",
       "    .dataframe tbody tr th {\n",
       "        vertical-align: top;\n",
       "    }\n",
       "\n",
       "    .dataframe thead th {\n",
       "        text-align: right;\n",
       "    }\n",
       "</style>\n",
       "<table border=\"1\" class=\"dataframe\">\n",
       "  <thead>\n",
       "    <tr style=\"text-align: right;\">\n",
       "      <th></th>\n",
       "      <th>Order Date</th>\n",
       "      <th>Order ID</th>\n",
       "      <th>Price Each</th>\n",
       "      <th>Product</th>\n",
       "      <th>Purchase Address</th>\n",
       "      <th>Quantity Ordered</th>\n",
       "      <th>file</th>\n",
       "    </tr>\n",
       "  </thead>\n",
       "  <tbody>\n",
       "    <tr>\n",
       "      <td>0</td>\n",
       "      <td>08/31/19 22:21</td>\n",
       "      <td>236670</td>\n",
       "      <td>11.99</td>\n",
       "      <td>Wired Headphones</td>\n",
       "      <td>359 Spruce St, Seattle, WA 98101</td>\n",
       "      <td>2</td>\n",
       "      <td>Sales_August</td>\n",
       "    </tr>\n",
       "    <tr>\n",
       "      <td>1</td>\n",
       "      <td>08/15/19 15:11</td>\n",
       "      <td>236671</td>\n",
       "      <td>99.99</td>\n",
       "      <td>Bose SoundSport Headphones</td>\n",
       "      <td>492 Ridge St, Dallas, TX 75001</td>\n",
       "      <td>1</td>\n",
       "      <td>Sales_August</td>\n",
       "    </tr>\n",
       "    <tr>\n",
       "      <td>2</td>\n",
       "      <td>08/06/19 14:40</td>\n",
       "      <td>236672</td>\n",
       "      <td>700.00</td>\n",
       "      <td>iPhone</td>\n",
       "      <td>149 7th St, Portland, OR 97035</td>\n",
       "      <td>1</td>\n",
       "      <td>Sales_August</td>\n",
       "    </tr>\n",
       "    <tr>\n",
       "      <td>3</td>\n",
       "      <td>08/29/19 20:59</td>\n",
       "      <td>236673</td>\n",
       "      <td>3.84</td>\n",
       "      <td>AA Batteries (4-pack)</td>\n",
       "      <td>631 2nd St, Los Angeles, CA 90001</td>\n",
       "      <td>2</td>\n",
       "      <td>Sales_August</td>\n",
       "    </tr>\n",
       "    <tr>\n",
       "      <td>4</td>\n",
       "      <td>08/15/19 19:53</td>\n",
       "      <td>236674</td>\n",
       "      <td>3.84</td>\n",
       "      <td>AA Batteries (4-pack)</td>\n",
       "      <td>736 14th St, New York City, NY 10001</td>\n",
       "      <td>2</td>\n",
       "      <td>Sales_August</td>\n",
       "    </tr>\n",
       "  </tbody>\n",
       "</table>\n",
       "</div>"
      ],
      "text/plain": [
       "       Order Date Order ID  Price Each                     Product  \\\n",
       "0  08/31/19 22:21   236670       11.99            Wired Headphones   \n",
       "1  08/15/19 15:11   236671       99.99  Bose SoundSport Headphones   \n",
       "2  08/06/19 14:40   236672      700.00                      iPhone   \n",
       "3  08/29/19 20:59   236673        3.84       AA Batteries (4-pack)   \n",
       "4  08/15/19 19:53   236674        3.84       AA Batteries (4-pack)   \n",
       "\n",
       "                       Purchase Address  Quantity Ordered          file  \n",
       "0      359 Spruce St, Seattle, WA 98101                 2  Sales_August  \n",
       "1        492 Ridge St, Dallas, TX 75001                 1  Sales_August  \n",
       "2        149 7th St, Portland, OR 97035                 1  Sales_August  \n",
       "3     631 2nd St, Los Angeles, CA 90001                 2  Sales_August  \n",
       "4  736 14th St, New York City, NY 10001                 2  Sales_August  "
      ]
     },
     "execution_count": 95,
     "metadata": {},
     "output_type": "execute_result"
    }
   ],
   "source": [
    "df_new=df\n",
    "df_new.head()"
   ]
  },
  {
   "cell_type": "code",
   "execution_count": 96,
   "metadata": {},
   "outputs": [
    {
     "data": {
      "text/html": [
       "<div>\n",
       "<style scoped>\n",
       "    .dataframe tbody tr th:only-of-type {\n",
       "        vertical-align: middle;\n",
       "    }\n",
       "\n",
       "    .dataframe tbody tr th {\n",
       "        vertical-align: top;\n",
       "    }\n",
       "\n",
       "    .dataframe thead th {\n",
       "        text-align: right;\n",
       "    }\n",
       "</style>\n",
       "<table border=\"1\" class=\"dataframe\">\n",
       "  <thead>\n",
       "    <tr style=\"text-align: right;\">\n",
       "      <th></th>\n",
       "      <th>Order Date</th>\n",
       "      <th>Order ID</th>\n",
       "      <th>Price Each</th>\n",
       "      <th>Product</th>\n",
       "      <th>Purchase Address</th>\n",
       "      <th>Quantity Ordered</th>\n",
       "      <th>file</th>\n",
       "      <th>Total Price</th>\n",
       "    </tr>\n",
       "  </thead>\n",
       "  <tbody>\n",
       "    <tr>\n",
       "      <td>0</td>\n",
       "      <td>08/31/19 22:21</td>\n",
       "      <td>236670</td>\n",
       "      <td>11.99</td>\n",
       "      <td>Wired Headphones</td>\n",
       "      <td>359 Spruce St, Seattle, WA 98101</td>\n",
       "      <td>2</td>\n",
       "      <td>Sales_August</td>\n",
       "      <td>23.98</td>\n",
       "    </tr>\n",
       "    <tr>\n",
       "      <td>1</td>\n",
       "      <td>08/15/19 15:11</td>\n",
       "      <td>236671</td>\n",
       "      <td>99.99</td>\n",
       "      <td>Bose SoundSport Headphones</td>\n",
       "      <td>492 Ridge St, Dallas, TX 75001</td>\n",
       "      <td>1</td>\n",
       "      <td>Sales_August</td>\n",
       "      <td>99.99</td>\n",
       "    </tr>\n",
       "    <tr>\n",
       "      <td>2</td>\n",
       "      <td>08/06/19 14:40</td>\n",
       "      <td>236672</td>\n",
       "      <td>700.00</td>\n",
       "      <td>iPhone</td>\n",
       "      <td>149 7th St, Portland, OR 97035</td>\n",
       "      <td>1</td>\n",
       "      <td>Sales_August</td>\n",
       "      <td>700.00</td>\n",
       "    </tr>\n",
       "    <tr>\n",
       "      <td>3</td>\n",
       "      <td>08/29/19 20:59</td>\n",
       "      <td>236673</td>\n",
       "      <td>3.84</td>\n",
       "      <td>AA Batteries (4-pack)</td>\n",
       "      <td>631 2nd St, Los Angeles, CA 90001</td>\n",
       "      <td>2</td>\n",
       "      <td>Sales_August</td>\n",
       "      <td>7.68</td>\n",
       "    </tr>\n",
       "    <tr>\n",
       "      <td>4</td>\n",
       "      <td>08/15/19 19:53</td>\n",
       "      <td>236674</td>\n",
       "      <td>3.84</td>\n",
       "      <td>AA Batteries (4-pack)</td>\n",
       "      <td>736 14th St, New York City, NY 10001</td>\n",
       "      <td>2</td>\n",
       "      <td>Sales_August</td>\n",
       "      <td>7.68</td>\n",
       "    </tr>\n",
       "  </tbody>\n",
       "</table>\n",
       "</div>"
      ],
      "text/plain": [
       "       Order Date Order ID  Price Each                     Product  \\\n",
       "0  08/31/19 22:21   236670       11.99            Wired Headphones   \n",
       "1  08/15/19 15:11   236671       99.99  Bose SoundSport Headphones   \n",
       "2  08/06/19 14:40   236672      700.00                      iPhone   \n",
       "3  08/29/19 20:59   236673        3.84       AA Batteries (4-pack)   \n",
       "4  08/15/19 19:53   236674        3.84       AA Batteries (4-pack)   \n",
       "\n",
       "                       Purchase Address  Quantity Ordered          file  \\\n",
       "0      359 Spruce St, Seattle, WA 98101                 2  Sales_August   \n",
       "1        492 Ridge St, Dallas, TX 75001                 1  Sales_August   \n",
       "2        149 7th St, Portland, OR 97035                 1  Sales_August   \n",
       "3     631 2nd St, Los Angeles, CA 90001                 2  Sales_August   \n",
       "4  736 14th St, New York City, NY 10001                 2  Sales_August   \n",
       "\n",
       "   Total Price  \n",
       "0        23.98  \n",
       "1        99.99  \n",
       "2       700.00  \n",
       "3         7.68  \n",
       "4         7.68  "
      ]
     },
     "execution_count": 96,
     "metadata": {},
     "output_type": "execute_result"
    }
   ],
   "source": [
    "df_new['Total Price']=df_new['Price Each']* df_new['Quantity Ordered']\n",
    "df_new.head(5)"
   ]
  },
  {
   "cell_type": "markdown",
   "metadata": {},
   "source": [
    "## SOLUTION 1"
   ]
  },
  {
   "cell_type": "code",
   "execution_count": 97,
   "metadata": {},
   "outputs": [
    {
     "data": {
      "image/png": "[encoded data removed]",
      "text/plain": [
       "<Figure size 720x432 with 1 Axes>"
      ]
     },
     "metadata": {
      "needs_background": "light"
     },
     "output_type": "display_data"
    }
   ],
   "source": [
    "ax=df_new.groupby('file').sum()['Quantity Ordered'].plot(kind='bar',figsize = (10,6),color='green')\n",
    "for i in ax.patches:\n",
    "    ax.annotate(i.get_height(), (i.get_x() * 1.005, i.get_height() * 1.005))"
   ]
  },
  {
   "cell_type": "code",
   "execution_count": null,
   "metadata": {},
   "outputs": [],
   "source": []
  },
  {
   "cell_type": "markdown",
   "metadata": {},
   "source": [
    "## Solution 2"
   ]
  },
  {
   "cell_type": "code",
   "execution_count": 98,
   "metadata": {},
   "outputs": [
    {
     "name": "stdout",
     "output_type": "stream",
     "text": [
      "       Order Date Order ID  Price Each           Product  \\\n",
      "0  08/31/19 22:21   236670       11.99  Wired Headphones   \n",
      "\n",
      "                   Purchase Address  Quantity Ordered          file  \\\n",
      "0  359 Spruce St, Seattle, WA 98101                 2  Sales_August   \n",
      "\n",
      "   Total Price         Street      City      State  \n",
      "0        23.98  359 Spruce St   Seattle   WA 98101  \n",
      "       Order Date Order ID  Price Each           Product  \\\n",
      "0  08/31/19 22:21   236670       11.99  Wired Headphones   \n",
      "\n",
      "                   Purchase Address  Quantity Ordered          file  \\\n",
      "0  359 Spruce St, Seattle, WA 98101                 2  Sales_August   \n",
      "\n",
      "   Total Price      City  \n",
      "0        23.98   Seattle  \n"
     ]
    }
   ],
   "source": [
    "df_new[['Street','City','State']] = df_new['Purchase Address'].str.split(\",\",expand=True)\n",
    "print(df_new.head(1))\n",
    "df_new = df_new.drop([\"Street\", \"State\"], axis=1)\n",
    "print(df_new.head(1))"
   ]
  },
  {
   "cell_type": "code",
   "execution_count": 99,
   "metadata": {},
   "outputs": [
    {
     "data": {
      "image/png": "[encoded data removed]",
      "text/plain": [
       "<Figure size 576x432 with 1 Axes>"
      ]
     },
     "metadata": {
      "needs_background": "light"
     },
     "output_type": "display_data"
    }
   ],
   "source": [
    "bx=df_new.groupby('City').sum()['Quantity Ordered'].plot(kind='bar',figsize = (8,6),color='red')\n",
    "for i in bx.patches:\n",
    "    bx.annotate(i.get_height(), (i.get_x() * 1.005, i.get_height() * 1.005))"
   ]
  },
  {
   "cell_type": "markdown",
   "metadata": {},
   "source": [
    "## Solution 5"
   ]
  },
  {
   "cell_type": "code",
   "execution_count": 100,
   "metadata": {},
   "outputs": [
    {
     "data": {
      "image/png": "[encoded data removed]",
      "text/plain": [
       "<Figure size 720x432 with 1 Axes>"
      ]
     },
     "metadata": {
      "needs_background": "light"
     },
     "output_type": "display_data"
    }
   ],
   "source": [
    "cx=df_new.groupby('Product').sum()['Quantity Ordered'].plot(kind='bar',figsize = (10,6),color='purple')\n",
    "for i in cx.patches:\n",
    "    cx.annotate(i.get_height(), (i.get_x() * 1.005, i.get_height() * 1.005))"
   ]
  },
  {
   "cell_type": "markdown",
   "metadata": {},
   "source": [
    "## Solution 3"
   ]
  },
  {
   "cell_type": "code",
   "execution_count": 101,
   "metadata": {},
   "outputs": [
    {
     "data": {
      "text/html": [
       "<div>\n",
       "<style scoped>\n",
       "    .dataframe tbody tr th:only-of-type {\n",
       "        vertical-align: middle;\n",
       "    }\n",
       "\n",
       "    .dataframe tbody tr th {\n",
       "        vertical-align: top;\n",
       "    }\n",
       "\n",
       "    .dataframe thead th {\n",
       "        text-align: right;\n",
       "    }\n",
       "</style>\n",
       "<table border=\"1\" class=\"dataframe\">\n",
       "  <thead>\n",
       "    <tr style=\"text-align: right;\">\n",
       "      <th></th>\n",
       "      <th>Order Date</th>\n",
       "      <th>Order ID</th>\n",
       "      <th>Price Each</th>\n",
       "      <th>Product</th>\n",
       "      <th>Purchase Address</th>\n",
       "      <th>Quantity Ordered</th>\n",
       "      <th>file</th>\n",
       "      <th>Total Price</th>\n",
       "      <th>City</th>\n",
       "      <th>Time</th>\n",
       "    </tr>\n",
       "  </thead>\n",
       "  <tbody>\n",
       "    <tr>\n",
       "      <td>0</td>\n",
       "      <td>08/31/19</td>\n",
       "      <td>236670</td>\n",
       "      <td>11.99</td>\n",
       "      <td>Wired Headphones</td>\n",
       "      <td>359 Spruce St, Seattle, WA 98101</td>\n",
       "      <td>2</td>\n",
       "      <td>Sales_August</td>\n",
       "      <td>23.98</td>\n",
       "      <td>Seattle</td>\n",
       "      <td>22:21</td>\n",
       "    </tr>\n",
       "  </tbody>\n",
       "</table>\n",
       "</div>"
      ],
      "text/plain": [
       "  Order Date Order ID  Price Each           Product  \\\n",
       "0   08/31/19   236670       11.99  Wired Headphones   \n",
       "\n",
       "                   Purchase Address  Quantity Ordered          file  \\\n",
       "0  359 Spruce St, Seattle, WA 98101                 2  Sales_August   \n",
       "\n",
       "   Total Price      City   Time  \n",
       "0        23.98   Seattle  22:21  "
      ]
     },
     "execution_count": 101,
     "metadata": {},
     "output_type": "execute_result"
    }
   ],
   "source": [
    "df_new[['Order Date','Time']]=df_new['Order Date'].str.split(\" \",expand=True)\n",
    "df_new.head(1)"
   ]
  },
  {
   "cell_type": "code",
   "execution_count": 102,
   "metadata": {},
   "outputs": [
    {
     "data": {
      "text/html": [
       "<div>\n",
       "<style scoped>\n",
       "    .dataframe tbody tr th:only-of-type {\n",
       "        vertical-align: middle;\n",
       "    }\n",
       "\n",
       "    .dataframe tbody tr th {\n",
       "        vertical-align: top;\n",
       "    }\n",
       "\n",
       "    .dataframe thead th {\n",
       "        text-align: right;\n",
       "    }\n",
       "</style>\n",
       "<table border=\"1\" class=\"dataframe\">\n",
       "  <thead>\n",
       "    <tr style=\"text-align: right;\">\n",
       "      <th></th>\n",
       "      <th>Order Date</th>\n",
       "      <th>Order ID</th>\n",
       "      <th>Price Each</th>\n",
       "      <th>Product</th>\n",
       "      <th>Purchase Address</th>\n",
       "      <th>Quantity Ordered</th>\n",
       "      <th>file</th>\n",
       "      <th>Total Price</th>\n",
       "      <th>City</th>\n",
       "      <th>Time</th>\n",
       "      <th>Hour</th>\n",
       "      <th>Minutes</th>\n",
       "    </tr>\n",
       "  </thead>\n",
       "  <tbody>\n",
       "    <tr>\n",
       "      <td>0</td>\n",
       "      <td>08/31/19</td>\n",
       "      <td>236670</td>\n",
       "      <td>11.99</td>\n",
       "      <td>Wired Headphones</td>\n",
       "      <td>359 Spruce St, Seattle, WA 98101</td>\n",
       "      <td>2</td>\n",
       "      <td>Sales_August</td>\n",
       "      <td>23.98</td>\n",
       "      <td>Seattle</td>\n",
       "      <td>22:21</td>\n",
       "      <td>22</td>\n",
       "      <td>21</td>\n",
       "    </tr>\n",
       "  </tbody>\n",
       "</table>\n",
       "</div>"
      ],
      "text/plain": [
       "  Order Date Order ID  Price Each           Product  \\\n",
       "0   08/31/19   236670       11.99  Wired Headphones   \n",
       "\n",
       "                   Purchase Address  Quantity Ordered          file  \\\n",
       "0  359 Spruce St, Seattle, WA 98101                 2  Sales_August   \n",
       "\n",
       "   Total Price      City   Time Hour Minutes  \n",
       "0        23.98   Seattle  22:21   22      21  "
      ]
     },
     "execution_count": 102,
     "metadata": {},
     "output_type": "execute_result"
    }
   ],
   "source": [
    "df_new[['Hour','Minutes']]=df_new['Time'].str.split(\":\",expand=True)\n",
    "df_new.head(1)"
   ]
  },
  {
   "cell_type": "code",
   "execution_count": 106,
   "metadata": {},
   "outputs": [
    {
     "data": {
      "image/png": "[encoded data removed]",
      "text/plain": [
       "<Figure size 1080x432 with 1 Axes>"
      ]
     },
     "metadata": {
      "needs_background": "light"
     },
     "output_type": "display_data"
    }
   ],
   "source": [
    "dx=df_new.groupby('Hour').sum()['Quantity Ordered'].plot(kind='bar',figsize = (15,6),color='yellow')\n",
    "for i in dx.patches:\n",
    "    dx.annotate(i.get_height(), (i.get_x() * 1.005, i.get_height() * 1.005))"
   ]
  },
  {
   "cell_type": "markdown",
   "metadata": {},
   "source": [
    "## Solution 4) "
   ]
  },
  {
   "cell_type": "code",
   "execution_count": 108,
   "metadata": {},
   "outputs": [
    {
     "data": {
      "text/html": [
       "<div>\n",
       "<style scoped>\n",
       "    .dataframe tbody tr th:only-of-type {\n",
       "        vertical-align: middle;\n",
       "    }\n",
       "\n",
       "    .dataframe tbody tr th {\n",
       "        vertical-align: top;\n",
       "    }\n",
       "\n",
       "    .dataframe thead th {\n",
       "        text-align: right;\n",
       "    }\n",
       "</style>\n",
       "<table border=\"1\" class=\"dataframe\">\n",
       "  <thead>\n",
       "    <tr style=\"text-align: right;\">\n",
       "      <th></th>\n",
       "      <th>Order ID</th>\n",
       "      <th>Product</th>\n",
       "    </tr>\n",
       "  </thead>\n",
       "  <tbody>\n",
       "    <tr>\n",
       "      <td>0</td>\n",
       "      <td>236670</td>\n",
       "      <td>Wired Headphones</td>\n",
       "    </tr>\n",
       "    <tr>\n",
       "      <td>1</td>\n",
       "      <td>236671</td>\n",
       "      <td>Bose SoundSport Headphones</td>\n",
       "    </tr>\n",
       "    <tr>\n",
       "      <td>2</td>\n",
       "      <td>236672</td>\n",
       "      <td>iPhone</td>\n",
       "    </tr>\n",
       "    <tr>\n",
       "      <td>3</td>\n",
       "      <td>236673</td>\n",
       "      <td>AA Batteries (4-pack)</td>\n",
       "    </tr>\n",
       "    <tr>\n",
       "      <td>4</td>\n",
       "      <td>236674</td>\n",
       "      <td>AA Batteries (4-pack)</td>\n",
       "    </tr>\n",
       "  </tbody>\n",
       "</table>\n",
       "</div>"
      ],
      "text/plain": [
       "  Order ID                     Product\n",
       "0   236670            Wired Headphones\n",
       "1   236671  Bose SoundSport Headphones\n",
       "2   236672                      iPhone\n",
       "3   236673       AA Batteries (4-pack)\n",
       "4   236674       AA Batteries (4-pack)"
      ]
     },
     "execution_count": 108,
     "metadata": {},
     "output_type": "execute_result"
    }
   ],
   "source": [
    "df_together=df[['Order ID','Product']]\n",
    "df_together.head()"
   ]
  },
  {
   "cell_type": "code",
   "execution_count": 109,
   "metadata": {},
   "outputs": [
    {
     "data": {
      "text/html": [
       "<div>\n",
       "<style scoped>\n",
       "    .dataframe tbody tr th:only-of-type {\n",
       "        vertical-align: middle;\n",
       "    }\n",
       "\n",
       "    .dataframe tbody tr th {\n",
       "        vertical-align: top;\n",
       "    }\n",
       "\n",
       "    .dataframe thead th {\n",
       "        text-align: right;\n",
       "    }\n",
       "</style>\n",
       "<table border=\"1\" class=\"dataframe\">\n",
       "  <thead>\n",
       "    <tr style=\"text-align: right;\">\n",
       "      <th></th>\n",
       "      <th>Order ID</th>\n",
       "      <th>new</th>\n",
       "    </tr>\n",
       "  </thead>\n",
       "  <tbody>\n",
       "    <tr>\n",
       "      <td>0</td>\n",
       "      <td>141234</td>\n",
       "      <td>[iPhone]</td>\n",
       "    </tr>\n",
       "    <tr>\n",
       "      <td>1</td>\n",
       "      <td>141235</td>\n",
       "      <td>[Lightning Charging Cable]</td>\n",
       "    </tr>\n",
       "  </tbody>\n",
       "</table>\n",
       "</div>"
      ],
      "text/plain": [
       "  Order ID                         new\n",
       "0   141234                    [iPhone]\n",
       "1   141235  [Lightning Charging Cable]"
      ]
     },
     "execution_count": 109,
     "metadata": {},
     "output_type": "execute_result"
    }
   ],
   "source": [
    "df_together=df_together.groupby('Order ID')['Product'].apply(list).reset_index(name='new')\n",
    "df_together.head(2)"
   ]
  },
  {
   "cell_type": "code",
   "execution_count": 110,
   "metadata": {},
   "outputs": [
    {
     "name": "stdout",
     "output_type": "stream",
     "text": [
      "(160900, 2)\n",
      "Order ID    0\n",
      "new         0\n",
      "dtype: int64\n",
      "None\n",
      "(160900, 2)\n"
     ]
    }
   ],
   "source": [
    "print(df_together.shape)\n",
    "print(df_together.isnull().sum())\n",
    "\n",
    "print(df_together.dropna(inplace=True))\n",
    "print(df_together.shape)"
   ]
  },
  {
   "cell_type": "code",
   "execution_count": 111,
   "metadata": {},
   "outputs": [
    {
     "data": {
      "text/plain": [
       "[USB-C Charging Cable]                       17970\n",
       "[AAA Batteries (4-pack)]                     17938\n",
       "[AA Batteries (4-pack)]                      17857\n",
       "[Lightning Charging Cable]                   17838\n",
       "[Wired Headphones]                           15495\n",
       "                                             ...  \n",
       "[USB-C Charging Cable, LG Dryer]                 1\n",
       "[20in Monitor, Flatscreen TV]                    1\n",
       "[iPhone, Vareebadd Phone]                        1\n",
       "[ThinkPad Laptop, 27in 4K Gaming Monitor]        1\n",
       "[iPhone, 27in FHD Monitor]                       1\n",
       "Name: new, Length: 362, dtype: int64"
      ]
     },
     "execution_count": 111,
     "metadata": {},
     "output_type": "execute_result"
    }
   ],
   "source": [
    "df_together['new'].value_counts()"
   ]
  },
  {
   "cell_type": "code",
   "execution_count": 112,
   "metadata": {},
   "outputs": [],
   "source": [
    "df_together['Length'] = df_together.new.apply(lambda x: len(x))"
   ]
  },
  {
   "cell_type": "code",
   "execution_count": 113,
   "metadata": {},
   "outputs": [
    {
     "data": {
      "text/html": [
       "<div>\n",
       "<style scoped>\n",
       "    .dataframe tbody tr th:only-of-type {\n",
       "        vertical-align: middle;\n",
       "    }\n",
       "\n",
       "    .dataframe tbody tr th {\n",
       "        vertical-align: top;\n",
       "    }\n",
       "\n",
       "    .dataframe thead th {\n",
       "        text-align: right;\n",
       "    }\n",
       "</style>\n",
       "<table border=\"1\" class=\"dataframe\">\n",
       "  <thead>\n",
       "    <tr style=\"text-align: right;\">\n",
       "      <th></th>\n",
       "      <th>Order ID</th>\n",
       "      <th>new</th>\n",
       "      <th>Length</th>\n",
       "    </tr>\n",
       "  </thead>\n",
       "  <tbody>\n",
       "    <tr>\n",
       "      <td>41</td>\n",
       "      <td>141275</td>\n",
       "      <td>[USB-C Charging Cable, Wired Headphones]</td>\n",
       "      <td>2</td>\n",
       "    </tr>\n",
       "    <tr>\n",
       "      <td>56</td>\n",
       "      <td>141290</td>\n",
       "      <td>[Apple Airpods Headphones, AA Batteries (4-pack)]</td>\n",
       "      <td>2</td>\n",
       "    </tr>\n",
       "    <tr>\n",
       "      <td>131</td>\n",
       "      <td>141365</td>\n",
       "      <td>[Vareebadd Phone, Wired Headphones]</td>\n",
       "      <td>2</td>\n",
       "    </tr>\n",
       "    <tr>\n",
       "      <td>150</td>\n",
       "      <td>141384</td>\n",
       "      <td>[Google Phone, USB-C Charging Cable]</td>\n",
       "      <td>2</td>\n",
       "    </tr>\n",
       "    <tr>\n",
       "      <td>216</td>\n",
       "      <td>141450</td>\n",
       "      <td>[Google Phone, Bose SoundSport Headphones]</td>\n",
       "      <td>2</td>\n",
       "    </tr>\n",
       "    <tr>\n",
       "      <td>...</td>\n",
       "      <td>...</td>\n",
       "      <td>...</td>\n",
       "      <td>...</td>\n",
       "    </tr>\n",
       "    <tr>\n",
       "      <td>160765</td>\n",
       "      <td>319536</td>\n",
       "      <td>[Macbook Pro Laptop, Wired Headphones]</td>\n",
       "      <td>2</td>\n",
       "    </tr>\n",
       "    <tr>\n",
       "      <td>160785</td>\n",
       "      <td>319556</td>\n",
       "      <td>[Google Phone, Wired Headphones]</td>\n",
       "      <td>2</td>\n",
       "    </tr>\n",
       "    <tr>\n",
       "      <td>160813</td>\n",
       "      <td>319584</td>\n",
       "      <td>[iPhone, Wired Headphones]</td>\n",
       "      <td>2</td>\n",
       "    </tr>\n",
       "    <tr>\n",
       "      <td>160825</td>\n",
       "      <td>319596</td>\n",
       "      <td>[iPhone, Lightning Charging Cable]</td>\n",
       "      <td>2</td>\n",
       "    </tr>\n",
       "    <tr>\n",
       "      <td>160860</td>\n",
       "      <td>319631</td>\n",
       "      <td>[34in Ultrawide Monitor, Lightning Charging Ca...</td>\n",
       "      <td>2</td>\n",
       "    </tr>\n",
       "  </tbody>\n",
       "</table>\n",
       "<p>6182 rows × 3 columns</p>\n",
       "</div>"
      ],
      "text/plain": [
       "       Order ID                                                new  Length\n",
       "41       141275           [USB-C Charging Cable, Wired Headphones]       2\n",
       "56       141290  [Apple Airpods Headphones, AA Batteries (4-pack)]       2\n",
       "131      141365                [Vareebadd Phone, Wired Headphones]       2\n",
       "150      141384               [Google Phone, USB-C Charging Cable]       2\n",
       "216      141450         [Google Phone, Bose SoundSport Headphones]       2\n",
       "...         ...                                                ...     ...\n",
       "160765   319536             [Macbook Pro Laptop, Wired Headphones]       2\n",
       "160785   319556                   [Google Phone, Wired Headphones]       2\n",
       "160813   319584                         [iPhone, Wired Headphones]       2\n",
       "160825   319596                 [iPhone, Lightning Charging Cable]       2\n",
       "160860   319631  [34in Ultrawide Monitor, Lightning Charging Ca...       2\n",
       "\n",
       "[6182 rows x 3 columns]"
      ]
     },
     "execution_count": 113,
     "metadata": {},
     "output_type": "execute_result"
    }
   ],
   "source": [
    "df_final=df_together[df_together['Length']>1]\n",
    "df_final"
   ]
  },
  {
   "cell_type": "code",
   "execution_count": 114,
   "metadata": {},
   "outputs": [
    {
     "name": "stderr",
     "output_type": "stream",
     "text": [
      "C:\\ProgramData\\Anaconda3\\lib\\site-packages\\ipykernel_launcher.py:1: SettingWithCopyWarning: \n",
      "A value is trying to be set on a copy of a slice from a DataFrame.\n",
      "Try using .loc[row_indexer,col_indexer] = value instead\n",
      "\n",
      "See the caveats in the documentation: http://pandas.pydata.org/pandas-docs/stable/user_guide/indexing.html#returning-a-view-versus-a-copy\n",
      "  \"\"\"Entry point for launching an IPython kernel.\n"
     ]
    }
   ],
   "source": [
    "df_final['liststring'] = df_final['new'].apply(lambda x: ','.join(map(str, x)))"
   ]
  },
  {
   "cell_type": "code",
   "execution_count": 116,
   "metadata": {},
   "outputs": [
    {
     "name": "stdout",
     "output_type": "stream",
     "text": [
      "       Order ID  Length                                       liststring\n",
      "41       141275       2            USB-C Charging Cable,Wired Headphones\n",
      "56       141290       2   Apple Airpods Headphones,AA Batteries (4-pack)\n",
      "131      141365       2                 Vareebadd Phone,Wired Headphones\n",
      "150      141384       2                Google Phone,USB-C Charging Cable\n",
      "216      141450       2          Google Phone,Bose SoundSport Headphones\n",
      "...         ...     ...                                              ...\n",
      "160765   319536       2              Macbook Pro Laptop,Wired Headphones\n",
      "160785   319556       2                    Google Phone,Wired Headphones\n",
      "160813   319584       2                          iPhone,Wired Headphones\n",
      "160825   319596       2                  iPhone,Lightning Charging Cable\n",
      "160860   319631       2  34in Ultrawide Monitor,Lightning Charging Cable\n",
      "\n",
      "[6182 rows x 3 columns]\n"
     ]
    }
   ],
   "source": [
    "print(df_final.drop(columns='new'))"
   ]
  },
  {
   "cell_type": "code",
   "execution_count": 118,
   "metadata": {},
   "outputs": [],
   "source": [
    "# Create new column count with value 1\n",
    "df_final.loc[:,'Count']=1"
   ]
  },
  {
   "cell_type": "code",
   "execution_count": 120,
   "metadata": {},
   "outputs": [
    {
     "data": {
      "text/html": [
       "<div>\n",
       "<style scoped>\n",
       "    .dataframe tbody tr th:only-of-type {\n",
       "        vertical-align: middle;\n",
       "    }\n",
       "\n",
       "    .dataframe tbody tr th {\n",
       "        vertical-align: top;\n",
       "    }\n",
       "\n",
       "    .dataframe thead th {\n",
       "        text-align: right;\n",
       "    }\n",
       "</style>\n",
       "<table border=\"1\" class=\"dataframe\">\n",
       "  <thead>\n",
       "    <tr style=\"text-align: right;\">\n",
       "      <th></th>\n",
       "      <th>Order ID</th>\n",
       "      <th>new</th>\n",
       "      <th>Length</th>\n",
       "      <th>liststring</th>\n",
       "      <th>Count</th>\n",
       "    </tr>\n",
       "  </thead>\n",
       "  <tbody>\n",
       "    <tr>\n",
       "      <td>41</td>\n",
       "      <td>141275</td>\n",
       "      <td>[USB-C Charging Cable, Wired Headphones]</td>\n",
       "      <td>2</td>\n",
       "      <td>USB-C Charging Cable,Wired Headphones</td>\n",
       "      <td>1</td>\n",
       "    </tr>\n",
       "    <tr>\n",
       "      <td>56</td>\n",
       "      <td>141290</td>\n",
       "      <td>[Apple Airpods Headphones, AA Batteries (4-pack)]</td>\n",
       "      <td>2</td>\n",
       "      <td>Apple Airpods Headphones,AA Batteries (4-pack)</td>\n",
       "      <td>1</td>\n",
       "    </tr>\n",
       "  </tbody>\n",
       "</table>\n",
       "</div>"
      ],
      "text/plain": [
       "   Order ID                                                new  Length  \\\n",
       "41   141275           [USB-C Charging Cable, Wired Headphones]       2   \n",
       "56   141290  [Apple Airpods Headphones, AA Batteries (4-pack)]       2   \n",
       "\n",
       "                                        liststring  Count  \n",
       "41           USB-C Charging Cable,Wired Headphones      1  \n",
       "56  Apple Airpods Headphones,AA Batteries (4-pack)      1  "
      ]
     },
     "execution_count": 120,
     "metadata": {},
     "output_type": "execute_result"
    }
   ],
   "source": [
    "df_final.head(2)"
   ]
  },
  {
   "cell_type": "code",
   "execution_count": 138,
   "metadata": {},
   "outputs": [
    {
     "data": {
      "image/png": "[encoded data removed]",
      "text/plain": [
       "<Figure size 1080x432 with 1 Axes>"
      ]
     },
     "metadata": {
      "needs_background": "light"
     },
     "output_type": "display_data"
    }
   ],
   "source": [
    "#df.groupby('Restaurant Name').sum().nlargest(15,'count')\n",
    "ex=df_final.groupby('liststring').sum().nlargest(15,'Count').plot(kind='bar',figsize = (15,6),color='blue')\n",
    "for i in ex.patches:\n",
    "    ex.annotate(i.get_height(), (i.get_x() * 1.005, i.get_height() * 1.005))"
   ]
  }
 ],
 "metadata": {
  "kernelspec": {
   "display_name": "Python 3",
   "language": "python",
   "name": "python3"
  },
  "language_info": {
   "codemirror_mode": {
    "name": "ipython",
    "version": 3
   },
   "file_extension": ".py",
   "mimetype": "text/x-python",
   "name": "python",
   "nbconvert_exporter": "python",
   "pygments_lexer": "ipython3",
   "version": "3.7.3"
  }
 },
 "nbformat": 4,
 "nbformat_minor": 2
}
